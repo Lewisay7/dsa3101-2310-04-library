{
 "cells": [
  {
   "cell_type": "code",
   "execution_count": 43,
   "metadata": {},
   "outputs": [],
   "source": [
    "import matplotlib.pyplot as plt\n",
    "import numpy as np\n",
    "import random\n",
    "import cv2\n",
    "import os\n",
    "from matplotlib.colors import LinearSegmentedColormap\n"
   ]
  },
  {
   "cell_type": "code",
   "execution_count": 42,
   "metadata": {},
   "outputs": [],
   "source": [
    "\n",
    "images_path = {'3': \"floorplan_images/L_3.png\",\n",
    "               '4':\"floorplan_images/L_4.png\",\n",
    "               '5': 'floorplan_images/L_5.jpg',\n",
    "               '6':\"loorplan_images/L_6.jpg\",\n",
    "               '6Chinese':\"floorplan_images/L_6Chinese.jpg\"}\n",
    "regions_coordinates = {'3':{'Discussion.Cubicles':[[4103,5450,522,748]],'Soft.seats':[[1738,811,187,330],[1969,3542,621,1215],[4356,5467,192,330],[4488,5456,2860,3014]],\n",
    "                            'Moveable.seats':[[4367,5362,1050,2090]]},\n",
    "                       '4':{'Soft.seats':[[1166,1639,682,1155],[2178,2656,1309,1721],[3228,3822,792,902],[4625,5098,1639,2530],[4537,5175,2799,2909]],\n",
    "                             'Sofa':[[1039,1749,1375,1584], [2909, 3987,1364,1606]]},\n",
    "                       '5':{'Windowed.Seats':[[36 ,1220,40,132],[40, 128,136,1308],[144,1224,1212,1304],[1240,4532,780,900],[1912,2668,2396,2528],[44,1912,2840,2960],[4720,5548,784,904],[5548,5688,784,2948],[4720,5548,2836,2948]],\n",
    "                             'X4.man.tables':[[288,1068,196,316],[1304,1568,368,736],[212,1004,2140,2260],[1432,1704,2144,2264],[2160,2136,2432,2264]],\n",
    "                             'X8.man.tables':[[1992,3904,1024,1188],[1300,1828,2528,2700]]},\n",
    "                        '6':{'Diagonal.Seats':[[624,2007,348,492]],\n",
    "                             'Cubicle.seats':[[144,519,300,507], [1614,1986,675,1356]],\n",
    "                             'Windowed.Seats':[[150,2292,63,159],[2250,2355,267,1404] ,[1803,2283,1491,1587]]},\n",
    "                        '6Chinese':{'Diagonal.Seats':[[610,2342,918,1084]],\n",
    "                                    'Cubicle.seats':[[710,2342,1252,1340]],\n",
    "                                    'Windowed.Seats':[[208,300,756,1314],[630,2860,2022,2100],[2982,3074,1022,1992]]}}\n",
    "\n",
    "\n",
    "students = {'Windowed.Seats':20, 'X4.man.tables':40,'X8.man.tables':80}\n",
    "\n"
   ]
  },
  {
   "cell_type": "code",
   "execution_count": 45,
   "metadata": {},
   "outputs": [],
   "source": [
    "def blur_img(contour_data):\n",
    "    contour_blur = cv2.GaussianBlur(contour_data, ksize=(251,251), sigmaX=25, sigmaY=25)\n",
    "    return contour_blur\n",
    "    "
   ]
  },
  {
   "cell_type": "code",
   "execution_count": 59,
   "metadata": {},
   "outputs": [
    {
     "ename": "NameError",
     "evalue": "name '__file__' is not defined",
     "output_type": "error",
     "traceback": [
      "\u001b[0;31m---------------------------------------------------------------------------\u001b[0m",
      "\u001b[0;31mNameError\u001b[0m                                 Traceback (most recent call last)",
      "\u001b[1;32m/Users/yg/Downloads/heatmap.ipynb Cell 4\u001b[0m line \u001b[0;36m2\n\u001b[1;32m      <a href='vscode-notebook-cell:/Users/yg/Downloads/heatmap.ipynb#X12sZmlsZQ%3D%3D?line=0'>1</a>\u001b[0m \u001b[39m# Get the directory where the script is located\u001b[39;00m\n\u001b[0;32m----> <a href='vscode-notebook-cell:/Users/yg/Downloads/heatmap.ipynb#X12sZmlsZQ%3D%3D?line=1'>2</a>\u001b[0m script_dir \u001b[39m=\u001b[39m os\u001b[39m.\u001b[39mpath\u001b[39m.\u001b[39mdirname(os\u001b[39m.\u001b[39mpath\u001b[39m.\u001b[39mabspath(\u001b[39m__file__\u001b[39;49m))\n\u001b[1;32m      <a href='vscode-notebook-cell:/Users/yg/Downloads/heatmap.ipynb#X12sZmlsZQ%3D%3D?line=3'>4</a>\u001b[0m \u001b[39m# Construct the path to the image relative to the script's directory\u001b[39;00m\n\u001b[1;32m      <a href='vscode-notebook-cell:/Users/yg/Downloads/heatmap.ipynb#X12sZmlsZQ%3D%3D?line=4'>5</a>\u001b[0m image_path \u001b[39m=\u001b[39m os\u001b[39m.\u001b[39mpath\u001b[39m.\u001b[39mjoin(script_dir, \u001b[39m'\u001b[39m\u001b[39mfloorplan_images\u001b[39m\u001b[39m'\u001b[39m, \u001b[39m'\u001b[39m\u001b[39mL_5.jpg\u001b[39m\u001b[39m'\u001b[39m)\n",
      "\u001b[0;31mNameError\u001b[0m: name '__file__' is not defined"
     ]
    }
   ],
   "source": [
    "\n",
    "# Get the directory where the script is located\n",
    "script_dir = os.path.dirname(os.path.abspath())\n",
    "\n",
    "# Construct the path to the image relative to the script's directory\n",
    "image_path = os.path.join(script_dir, 'floorplan_images', 'L_5.jpg')\n",
    "\n",
    "# Load the image\n",
    "image = cv2.imread(image_path)\n",
    "\n",
    "\n",
    "        \n",
    "        "
   ]
  },
  {
   "cell_type": "code",
   "execution_count": 40,
   "metadata": {},
   "outputs": [
    {
     "name": "stderr",
     "output_type": "stream",
     "text": [
      "[ WARN:0@12104.937] global loadsave.cpp:248 findDecoder imread_('floorplan_images/L_5.jpg'): can't open/read file: check file path/integrity\n"
     ]
    }
   ],
   "source": [
    "image = cv2.imread(images_path['5'])\n",
    "region = regions_coordinates['5']\n",
    "\n",
    "def z_data(region,students,contour_data):\n",
    "        for type in region:\n",
    "                for coordinates in region[type]:\n",
    "                        x_1 = coordinates[0]\n",
    "                        x_2 = coordinates[1]\n",
    "                        y_1 = coordinates[2]\n",
    "                        y_2 = coordinates[3]\n",
    "                        for x in range(x_1,x_2 +1):\n",
    "                                for y in range(y_1, y_2 +1):\n",
    "                                        contour_data[y,x] = students[type]\n",
    "        return contour_data  \n",
    "\n",
    "\n",
    "def generate_floorplan_contour(image, region, students):\n",
    "        x_range = np.arange(image.shape[1])\n",
    "        y_range = np.arange(image.shape[0])\n",
    "        xx,yy = np.meshgrid(x_range,y_range)\n",
    "        contour_data = np.zeros_like(xx, dtype=np.float32)\n",
    "        contour_data = z_data(region,students,contour_data)\n",
    "        contour_data = blur_img(contour_data) \n",
    "        fig, ax = plt.subplots(figsize=(8, 8))\n",
    "        ax.imshow(image)\n",
    "        # Create a colormap for the contour plot\n",
    "        cmap = LinearSegmentedColormap.from_list('custom_colormap', [(0, 'white'), (1, 'blue')], N=256)\n",
    "        contours = ax.pcolormesh(xx, yy, contour_data, cmap= cmap, alpha=0.5)\n",
    "        ax.set_title('Contour Plot')\n",
    "        plt.show()\n",
    "\n",
    "\n"
   ]
  },
  {
   "cell_type": "code",
   "execution_count": 33,
   "metadata": {},
   "outputs": [
    {
     "ename": "AttributeError",
     "evalue": "'NoneType' object has no attribute 'shape'",
     "output_type": "error",
     "traceback": [
      "\u001b[0;31m---------------------------------------------------------------------------\u001b[0m",
      "\u001b[0;31mAttributeError\u001b[0m                            Traceback (most recent call last)",
      "\u001b[1;32m/Users/yg/Downloads/heatmap.ipynb Cell 6\u001b[0m line \u001b[0;36m1\n\u001b[0;32m----> <a href='vscode-notebook-cell:/Users/yg/Downloads/heatmap.ipynb#W6sZmlsZQ%3D%3D?line=0'>1</a>\u001b[0m generate_floorplan_contour(image, regions, students)\n",
      "\u001b[1;32m/Users/yg/Downloads/heatmap.ipynb Cell 6\u001b[0m line \u001b[0;36m1\n\u001b[1;32m     <a href='vscode-notebook-cell:/Users/yg/Downloads/heatmap.ipynb#W6sZmlsZQ%3D%3D?line=16'>17</a>\u001b[0m \u001b[39mdef\u001b[39;00m \u001b[39mgenerate_floorplan_contour\u001b[39m(image, region, students):\n\u001b[0;32m---> <a href='vscode-notebook-cell:/Users/yg/Downloads/heatmap.ipynb#W6sZmlsZQ%3D%3D?line=17'>18</a>\u001b[0m         x_range \u001b[39m=\u001b[39m np\u001b[39m.\u001b[39marange(image\u001b[39m.\u001b[39;49mshape[\u001b[39m1\u001b[39m])\n\u001b[1;32m     <a href='vscode-notebook-cell:/Users/yg/Downloads/heatmap.ipynb#W6sZmlsZQ%3D%3D?line=18'>19</a>\u001b[0m         y_range \u001b[39m=\u001b[39m np\u001b[39m.\u001b[39marange(image\u001b[39m.\u001b[39mshape[\u001b[39m0\u001b[39m])\n\u001b[1;32m     <a href='vscode-notebook-cell:/Users/yg/Downloads/heatmap.ipynb#W6sZmlsZQ%3D%3D?line=19'>20</a>\u001b[0m         xx,yy \u001b[39m=\u001b[39m np\u001b[39m.\u001b[39mmeshgrid(x_range,y_range)\n",
      "\u001b[0;31mAttributeError\u001b[0m: 'NoneType' object has no attribute 'shape'"
     ]
    }
   ],
   "source": [
    "generate_floorplan_contour(image, regions, students)"
   ]
  },
  {
   "cell_type": "code",
   "execution_count": 122,
   "metadata": {},
   "outputs": [
    {
     "ename": "TypeError",
     "evalue": "float() argument must be a string or a real number, not 'multivariate_normal_frozen'",
     "output_type": "error",
     "traceback": [
      "\u001b[0;31m---------------------------------------------------------------------------\u001b[0m",
      "\u001b[0;31mTypeError\u001b[0m                                 Traceback (most recent call last)",
      "\u001b[1;32m/Users/yg/Downloads/heatmap.ipynb Cell 4\u001b[0m line \u001b[0;36m3\n\u001b[1;32m     <a href='vscode-notebook-cell:/Users/yg/Downloads/heatmap.ipynb#X25sZmlsZQ%3D%3D?line=28'>29</a>\u001b[0m         ax\u001b[39m.\u001b[39mset_title(\u001b[39m'\u001b[39m\u001b[39mContour Plot\u001b[39m\u001b[39m'\u001b[39m)\n\u001b[1;32m     <a href='vscode-notebook-cell:/Users/yg/Downloads/heatmap.ipynb#X25sZmlsZQ%3D%3D?line=29'>30</a>\u001b[0m         plt\u001b[39m.\u001b[39mshow()\n\u001b[0;32m---> <a href='vscode-notebook-cell:/Users/yg/Downloads/heatmap.ipynb#X25sZmlsZQ%3D%3D?line=31'>32</a>\u001b[0m generate_floorplan_contour(image, regions, students)\n",
      "\u001b[1;32m/Users/yg/Downloads/heatmap.ipynb Cell 4\u001b[0m line \u001b[0;36m2\n\u001b[1;32m     <a href='vscode-notebook-cell:/Users/yg/Downloads/heatmap.ipynb#X25sZmlsZQ%3D%3D?line=20'>21</a>\u001b[0m \u001b[39mfor\u001b[39;00m region \u001b[39min\u001b[39;00m regions\u001b[39m.\u001b[39mvalues():\n\u001b[1;32m     <a href='vscode-notebook-cell:/Users/yg/Downloads/heatmap.ipynb#X25sZmlsZQ%3D%3D?line=21'>22</a>\u001b[0m         \u001b[39mfor\u001b[39;00m student \u001b[39min\u001b[39;00m students\u001b[39m.\u001b[39mvalues():\n\u001b[0;32m---> <a href='vscode-notebook-cell:/Users/yg/Downloads/heatmap.ipynb#X25sZmlsZQ%3D%3D?line=22'>23</a>\u001b[0m                 contour_data \u001b[39m=\u001b[39m z_data(region,student,contour_data)\n\u001b[1;32m     <a href='vscode-notebook-cell:/Users/yg/Downloads/heatmap.ipynb#X25sZmlsZQ%3D%3D?line=23'>24</a>\u001b[0m fig, ax \u001b[39m=\u001b[39m plt\u001b[39m.\u001b[39msubplots(figsize\u001b[39m=\u001b[39m(\u001b[39m8\u001b[39m, \u001b[39m8\u001b[39m))\n\u001b[1;32m     <a href='vscode-notebook-cell:/Users/yg/Downloads/heatmap.ipynb#X25sZmlsZQ%3D%3D?line=24'>25</a>\u001b[0m ax\u001b[39m.\u001b[39mimshow(image)\n",
      "\u001b[1;32m/Users/yg/Downloads/heatmap.ipynb Cell 4\u001b[0m line \u001b[0;36m1\n\u001b[1;32m     <a href='vscode-notebook-cell:/Users/yg/Downloads/heatmap.ipynb#X25sZmlsZQ%3D%3D?line=9'>10</a>\u001b[0m \u001b[39mfor\u001b[39;00m x \u001b[39min\u001b[39;00m \u001b[39mrange\u001b[39m(x_1,x_2 \u001b[39m+\u001b[39m\u001b[39m1\u001b[39m):\n\u001b[1;32m     <a href='vscode-notebook-cell:/Users/yg/Downloads/heatmap.ipynb#X25sZmlsZQ%3D%3D?line=10'>11</a>\u001b[0m         \u001b[39mfor\u001b[39;00m y \u001b[39min\u001b[39;00m \u001b[39mrange\u001b[39m(y_1, y_2 \u001b[39m+\u001b[39m\u001b[39m1\u001b[39m):\n\u001b[0;32m---> <a href='vscode-notebook-cell:/Users/yg/Downloads/heatmap.ipynb#X25sZmlsZQ%3D%3D?line=11'>12</a>\u001b[0m                 contour_data[y,x] \u001b[39m=\u001b[39m multivariate_normal([\u001b[39m0\u001b[39m, \u001b[39m0\u001b[39m], [[\u001b[39m10.0\u001b[39m, \u001b[39m2.\u001b[39m], [\u001b[39m2.\u001b[39m, \u001b[39m10.0\u001b[39m]]) \n\u001b[1;32m     <a href='vscode-notebook-cell:/Users/yg/Downloads/heatmap.ipynb#X25sZmlsZQ%3D%3D?line=12'>13</a>\u001b[0m \u001b[39mreturn\u001b[39;00m contour_data\n",
      "\u001b[0;31mTypeError\u001b[0m: float() argument must be a string or a real number, not 'multivariate_normal_frozen'"
     ]
    }
   ],
   "source": [
    "'''from scipy.stats import multivariate_normal\n",
    "regions = {'a':[476,844,154,291], 'b':[1000,1280,120,650]}\n",
    "students ={'a':40, 'b':'80'}\n",
    "image = plt.imread('/Users/yg/Downloads/floorplan images/Level 3.png')\n",
    "def z_data(region, student,contour_data):\n",
    "        x_1 = region[0]\n",
    "        x_2 = region[1]\n",
    "        y_1 = region[2]\n",
    "        y_2 = region[3]\n",
    "        for x in range(x_1,x_2 +1):\n",
    "                for y in range(y_1, y_2 +1):\n",
    "                        contour_data[y,x] = multivariate_normal([0, 0], [[10.0, 2.], [2., 10.0]]) \n",
    "        return contour_data  \n",
    "\n",
    "\n",
    "def generate_floorplan_contour(image, regions, students):\n",
    "        x_range = np.arange(image.shape[1])\n",
    "        y_range = np.arange(image.shape[0])\n",
    "        xx,yy = np.meshgrid(x_range,y_range)\n",
    "        contour_data = np.zeros_like(xx, dtype=np.float32)\n",
    "        for region in regions.values():\n",
    "                for student in students.values():\n",
    "                        contour_data = z_data(region,student,contour_data)\n",
    "        fig, ax = plt.subplots(figsize=(8, 8))\n",
    "        ax.imshow(image)\n",
    "        # Create a colormap for the contour plot\n",
    "        cmap = LinearSegmentedColormap.from_list('custom_colormap', [(0, 'white'), (1, 'blue')], N=256)\n",
    "        contours = ax.pcolormesh(xx, yy, contour_data, cmap= cmap, alpha=0.5)\n",
    "        ax.set_title('Contour Plot')\n",
    "        plt.show()\n",
    "\n",
    "generate_floorplan_contour(image, regions, students)'''"
   ]
  },
  {
   "cell_type": "code",
   "execution_count": 115,
   "metadata": {},
   "outputs": [
    {
     "data": {
      "image/png": "[encoded data removed]",
      "text/plain": [
       "<Figure size 640x480 with 1 Axes>"
      ]
     },
     "metadata": {},
     "output_type": "display_data"
    },
    {
     "ename": "AttributeError",
     "evalue": "'multivariate_normal_frozen' object has no attribute 'dtypes'",
     "output_type": "error",
     "traceback": [
      "\u001b[0;31m---------------------------------------------------------------------------\u001b[0m",
      "\u001b[0;31mAttributeError\u001b[0m                            Traceback (most recent call last)",
      "\u001b[1;32m/Users/yg/Downloads/heatmap.ipynb Cell 6\u001b[0m line \u001b[0;36m1\n\u001b[1;32m      <a href='vscode-notebook-cell:/Users/yg/Downloads/heatmap.ipynb#X24sZmlsZQ%3D%3D?line=8'>9</a>\u001b[0m plt\u001b[39m.\u001b[39mcontourf(x, y, z, cmap\u001b[39m=\u001b[39m\u001b[39m'\u001b[39m\u001b[39mcoolwarm\u001b[39m\u001b[39m'\u001b[39m)\n\u001b[1;32m     <a href='vscode-notebook-cell:/Users/yg/Downloads/heatmap.ipynb#X24sZmlsZQ%3D%3D?line=9'>10</a>\u001b[0m plt\u001b[39m.\u001b[39mshow()\n\u001b[0;32m---> <a href='vscode-notebook-cell:/Users/yg/Downloads/heatmap.ipynb#X24sZmlsZQ%3D%3D?line=10'>11</a>\u001b[0m rv\u001b[39m.\u001b[39;49mdtypes\n",
      "\u001b[0;31mAttributeError\u001b[0m: 'multivariate_normal_frozen' object has no attribute 'dtypes'"
     ]
    }
   ],
   "source": [
    "import numpy as np\n",
    "import matplotlib.pyplot as plt\n",
    "from scipy.stats import multivariate_normal\n",
    "\n",
    "x, y = np.mgrid[-10:10:.1, -10:10:.1]\n",
    "rv = multivariate_normal([0, 0], [[10.0, 2.], [2., 10.0]])\n",
    "data = np.dstack((x, y))\n",
    "z = rv.pdf(data)\n",
    "plt.contourf(x, y, z, cmap='coolwarm')\n",
    "plt.show()\n",
    "rv.dtypes"
   ]
  }
 ],
 "metadata": {
  "kernelspec": {
   "display_name": "Python 3",
   "language": "python",
   "name": "python3"
  },
  "language_info": {
   "codemirror_mode": {
    "name": "ipython",
    "version": 3
   },
   "file_extension": ".py",
   "mimetype": "text/x-python",
   "name": "python",
   "nbconvert_exporter": "python",
   "pygments_lexer": "ipython3",
   "version": "3.11.4"
  }
 },
 "nbformat": 4,
 "nbformat_minor": 2
}
